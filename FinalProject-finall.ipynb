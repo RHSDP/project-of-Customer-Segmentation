{
 "cells": [
  {
   "cell_type": "code",
   "execution_count": 1,
   "id": "daf2f930",
   "metadata": {},
   "outputs": [],
   "source": [
    "##Step 0: Import Libraries\n",
    "\n",
    "import pandas as pd\n",
    "import numpy as np \n",
    "\n",
    "import matplotlib.pyplot as plt\n",
    "import seaborn as sns\n",
    "%matplotlib inline"
   ]
  },
  {
   "cell_type": "code",
   "execution_count": 2,
   "id": "f0807b18",
   "metadata": {},
   "outputs": [
    {
     "data": {
      "text/plain": [
       "(8068, 11)"
      ]
     },
     "execution_count": 2,
     "metadata": {},
     "output_type": "execute_result"
    }
   ],
   "source": [
    "##Step 1: Read the Dataset\n",
    "\n",
    "df=pd.read_csv(\"Train.csv\")\n",
    "df1 = df.copy(deep=True)\n",
    "df1.shape\n"
   ]
  },
  {
   "cell_type": "code",
   "execution_count": 3,
   "id": "89c2e0e8",
   "metadata": {},
   "outputs": [
    {
     "data": {
      "text/html": [
       "<div>\n",
       "<style scoped>\n",
       "    .dataframe tbody tr th:only-of-type {\n",
       "        vertical-align: middle;\n",
       "    }\n",
       "\n",
       "    .dataframe tbody tr th {\n",
       "        vertical-align: top;\n",
       "    }\n",
       "\n",
       "    .dataframe thead th {\n",
       "        text-align: right;\n",
       "    }\n",
       "</style>\n",
       "<table border=\"1\" class=\"dataframe\">\n",
       "  <thead>\n",
       "    <tr style=\"text-align: right;\">\n",
       "      <th></th>\n",
       "      <th>ID</th>\n",
       "      <th>Gender</th>\n",
       "      <th>Ever_Married</th>\n",
       "      <th>Age</th>\n",
       "      <th>Graduated</th>\n",
       "      <th>Profession</th>\n",
       "      <th>Work_Experience</th>\n",
       "      <th>Spending_Score</th>\n",
       "      <th>Family_Size</th>\n",
       "      <th>Var_1</th>\n",
       "      <th>Segmentation</th>\n",
       "    </tr>\n",
       "  </thead>\n",
       "  <tbody>\n",
       "    <tr>\n",
       "      <th>0</th>\n",
       "      <td>462809</td>\n",
       "      <td>Male</td>\n",
       "      <td>No</td>\n",
       "      <td>22</td>\n",
       "      <td>No</td>\n",
       "      <td>Healthcare</td>\n",
       "      <td>1.0</td>\n",
       "      <td>Low</td>\n",
       "      <td>4.0</td>\n",
       "      <td>Cat_4</td>\n",
       "      <td>D</td>\n",
       "    </tr>\n",
       "    <tr>\n",
       "      <th>1</th>\n",
       "      <td>462643</td>\n",
       "      <td>Female</td>\n",
       "      <td>Yes</td>\n",
       "      <td>38</td>\n",
       "      <td>Yes</td>\n",
       "      <td>Engineer</td>\n",
       "      <td>NaN</td>\n",
       "      <td>Average</td>\n",
       "      <td>3.0</td>\n",
       "      <td>Cat_4</td>\n",
       "      <td>A</td>\n",
       "    </tr>\n",
       "    <tr>\n",
       "      <th>2</th>\n",
       "      <td>466315</td>\n",
       "      <td>Female</td>\n",
       "      <td>Yes</td>\n",
       "      <td>67</td>\n",
       "      <td>Yes</td>\n",
       "      <td>Engineer</td>\n",
       "      <td>1.0</td>\n",
       "      <td>Low</td>\n",
       "      <td>1.0</td>\n",
       "      <td>Cat_6</td>\n",
       "      <td>B</td>\n",
       "    </tr>\n",
       "    <tr>\n",
       "      <th>3</th>\n",
       "      <td>461735</td>\n",
       "      <td>Male</td>\n",
       "      <td>Yes</td>\n",
       "      <td>67</td>\n",
       "      <td>Yes</td>\n",
       "      <td>Lawyer</td>\n",
       "      <td>0.0</td>\n",
       "      <td>High</td>\n",
       "      <td>2.0</td>\n",
       "      <td>Cat_6</td>\n",
       "      <td>B</td>\n",
       "    </tr>\n",
       "    <tr>\n",
       "      <th>4</th>\n",
       "      <td>462669</td>\n",
       "      <td>Female</td>\n",
       "      <td>Yes</td>\n",
       "      <td>40</td>\n",
       "      <td>Yes</td>\n",
       "      <td>Entertainment</td>\n",
       "      <td>NaN</td>\n",
       "      <td>High</td>\n",
       "      <td>6.0</td>\n",
       "      <td>Cat_6</td>\n",
       "      <td>A</td>\n",
       "    </tr>\n",
       "    <tr>\n",
       "      <th>5</th>\n",
       "      <td>461319</td>\n",
       "      <td>Male</td>\n",
       "      <td>Yes</td>\n",
       "      <td>56</td>\n",
       "      <td>No</td>\n",
       "      <td>Artist</td>\n",
       "      <td>0.0</td>\n",
       "      <td>Average</td>\n",
       "      <td>2.0</td>\n",
       "      <td>Cat_6</td>\n",
       "      <td>C</td>\n",
       "    </tr>\n",
       "  </tbody>\n",
       "</table>\n",
       "</div>"
      ],
      "text/plain": [
       "       ID  Gender Ever_Married  Age Graduated     Profession  Work_Experience  \\\n",
       "0  462809    Male           No   22        No     Healthcare              1.0   \n",
       "1  462643  Female          Yes   38       Yes       Engineer              NaN   \n",
       "2  466315  Female          Yes   67       Yes       Engineer              1.0   \n",
       "3  461735    Male          Yes   67       Yes         Lawyer              0.0   \n",
       "4  462669  Female          Yes   40       Yes  Entertainment              NaN   \n",
       "5  461319    Male          Yes   56        No         Artist              0.0   \n",
       "\n",
       "  Spending_Score  Family_Size  Var_1 Segmentation  \n",
       "0            Low          4.0  Cat_4            D  \n",
       "1        Average          3.0  Cat_4            A  \n",
       "2            Low          1.0  Cat_6            B  \n",
       "3           High          2.0  Cat_6            B  \n",
       "4           High          6.0  Cat_6            A  \n",
       "5        Average          2.0  Cat_6            C  "
      ]
     },
     "execution_count": 3,
     "metadata": {},
     "output_type": "execute_result"
    }
   ],
   "source": [
    "df1.head(6)"
   ]
  },
  {
   "cell_type": "code",
   "execution_count": 4,
   "id": "9890ab64",
   "metadata": {},
   "outputs": [
    {
     "name": "stdout",
     "output_type": "stream",
     "text": [
      "<class 'pandas.core.frame.DataFrame'>\n",
      "RangeIndex: 8068 entries, 0 to 8067\n",
      "Data columns (total 11 columns):\n",
      " #   Column           Non-Null Count  Dtype  \n",
      "---  ------           --------------  -----  \n",
      " 0   ID               8068 non-null   int64  \n",
      " 1   Gender           8068 non-null   object \n",
      " 2   Ever_Married     7928 non-null   object \n",
      " 3   Age              8068 non-null   int64  \n",
      " 4   Graduated        7990 non-null   object \n",
      " 5   Profession       7944 non-null   object \n",
      " 6   Work_Experience  7239 non-null   float64\n",
      " 7   Spending_Score   8068 non-null   object \n",
      " 8   Family_Size      7733 non-null   float64\n",
      " 9   Var_1            7992 non-null   object \n",
      " 10  Segmentation     8068 non-null   object \n",
      "dtypes: float64(2), int64(2), object(7)\n",
      "memory usage: 693.5+ KB\n"
     ]
    }
   ],
   "source": [
    "df1.info()"
   ]
  },
  {
   "cell_type": "code",
   "execution_count": 5,
   "id": "2cc05bba",
   "metadata": {},
   "outputs": [
    {
     "data": {
      "text/html": [
       "<div>\n",
       "<style scoped>\n",
       "    .dataframe tbody tr th:only-of-type {\n",
       "        vertical-align: middle;\n",
       "    }\n",
       "\n",
       "    .dataframe tbody tr th {\n",
       "        vertical-align: top;\n",
       "    }\n",
       "\n",
       "    .dataframe thead th {\n",
       "        text-align: right;\n",
       "    }\n",
       "</style>\n",
       "<table border=\"1\" class=\"dataframe\">\n",
       "  <thead>\n",
       "    <tr style=\"text-align: right;\">\n",
       "      <th></th>\n",
       "      <th>ID</th>\n",
       "      <th>Age</th>\n",
       "      <th>Work_Experience</th>\n",
       "      <th>Family_Size</th>\n",
       "    </tr>\n",
       "  </thead>\n",
       "  <tbody>\n",
       "    <tr>\n",
       "      <th>count</th>\n",
       "      <td>8068.0</td>\n",
       "      <td>8068.0</td>\n",
       "      <td>7239.0</td>\n",
       "      <td>7733.0</td>\n",
       "    </tr>\n",
       "    <tr>\n",
       "      <th>mean</th>\n",
       "      <td>463479.0</td>\n",
       "      <td>43.0</td>\n",
       "      <td>3.0</td>\n",
       "      <td>3.0</td>\n",
       "    </tr>\n",
       "    <tr>\n",
       "      <th>std</th>\n",
       "      <td>2595.0</td>\n",
       "      <td>17.0</td>\n",
       "      <td>3.0</td>\n",
       "      <td>2.0</td>\n",
       "    </tr>\n",
       "    <tr>\n",
       "      <th>min</th>\n",
       "      <td>458982.0</td>\n",
       "      <td>18.0</td>\n",
       "      <td>0.0</td>\n",
       "      <td>1.0</td>\n",
       "    </tr>\n",
       "    <tr>\n",
       "      <th>25%</th>\n",
       "      <td>461241.0</td>\n",
       "      <td>30.0</td>\n",
       "      <td>0.0</td>\n",
       "      <td>2.0</td>\n",
       "    </tr>\n",
       "    <tr>\n",
       "      <th>50%</th>\n",
       "      <td>463472.0</td>\n",
       "      <td>40.0</td>\n",
       "      <td>1.0</td>\n",
       "      <td>3.0</td>\n",
       "    </tr>\n",
       "    <tr>\n",
       "      <th>75%</th>\n",
       "      <td>465744.0</td>\n",
       "      <td>53.0</td>\n",
       "      <td>4.0</td>\n",
       "      <td>4.0</td>\n",
       "    </tr>\n",
       "    <tr>\n",
       "      <th>max</th>\n",
       "      <td>467974.0</td>\n",
       "      <td>89.0</td>\n",
       "      <td>14.0</td>\n",
       "      <td>9.0</td>\n",
       "    </tr>\n",
       "  </tbody>\n",
       "</table>\n",
       "</div>"
      ],
      "text/plain": [
       "             ID     Age  Work_Experience  Family_Size\n",
       "count    8068.0  8068.0           7239.0       7733.0\n",
       "mean   463479.0    43.0              3.0          3.0\n",
       "std      2595.0    17.0              3.0          2.0\n",
       "min    458982.0    18.0              0.0          1.0\n",
       "25%    461241.0    30.0              0.0          2.0\n",
       "50%    463472.0    40.0              1.0          3.0\n",
       "75%    465744.0    53.0              4.0          4.0\n",
       "max    467974.0    89.0             14.0          9.0"
      ]
     },
     "execution_count": 5,
     "metadata": {},
     "output_type": "execute_result"
    }
   ],
   "source": [
    "round(df1.describe())"
   ]
  },
  {
   "cell_type": "code",
   "execution_count": 6,
   "id": "ce9c2140",
   "metadata": {},
   "outputs": [
    {
     "data": {
      "text/html": [
       "<div>\n",
       "<style scoped>\n",
       "    .dataframe tbody tr th:only-of-type {\n",
       "        vertical-align: middle;\n",
       "    }\n",
       "\n",
       "    .dataframe tbody tr th {\n",
       "        vertical-align: top;\n",
       "    }\n",
       "\n",
       "    .dataframe thead th {\n",
       "        text-align: right;\n",
       "    }\n",
       "</style>\n",
       "<table border=\"1\" class=\"dataframe\">\n",
       "  <thead>\n",
       "    <tr style=\"text-align: right;\">\n",
       "      <th></th>\n",
       "      <th>ID</th>\n",
       "      <th>Gender</th>\n",
       "      <th>Ever_Married</th>\n",
       "      <th>Age</th>\n",
       "      <th>Graduated</th>\n",
       "      <th>Profession</th>\n",
       "      <th>Work_Experience</th>\n",
       "      <th>Spending_Score</th>\n",
       "      <th>Family_Size</th>\n",
       "      <th>Var_1</th>\n",
       "      <th>Segmentation</th>\n",
       "    </tr>\n",
       "  </thead>\n",
       "  <tbody>\n",
       "    <tr>\n",
       "      <th>0</th>\n",
       "      <td>462809</td>\n",
       "      <td>Male</td>\n",
       "      <td>No</td>\n",
       "      <td>22</td>\n",
       "      <td>No</td>\n",
       "      <td>Healthcare</td>\n",
       "      <td>1.0</td>\n",
       "      <td>Low</td>\n",
       "      <td>4.0</td>\n",
       "      <td>Cat_4</td>\n",
       "      <td>D</td>\n",
       "    </tr>\n",
       "  </tbody>\n",
       "</table>\n",
       "</div>"
      ],
      "text/plain": [
       "       ID Gender Ever_Married  Age Graduated  Profession  Work_Experience  \\\n",
       "0  462809   Male           No   22        No  Healthcare              1.0   \n",
       "\n",
       "  Spending_Score  Family_Size  Var_1 Segmentation  \n",
       "0            Low          4.0  Cat_4            D  "
      ]
     },
     "execution_count": 6,
     "metadata": {},
     "output_type": "execute_result"
    }
   ],
   "source": [
    "df1.head(1)"
   ]
  },
  {
   "cell_type": "code",
   "execution_count": 7,
   "id": "b8ea1a46",
   "metadata": {},
   "outputs": [
    {
     "data": {
      "text/html": [
       "<div>\n",
       "<style scoped>\n",
       "    .dataframe tbody tr th:only-of-type {\n",
       "        vertical-align: middle;\n",
       "    }\n",
       "\n",
       "    .dataframe tbody tr th {\n",
       "        vertical-align: top;\n",
       "    }\n",
       "\n",
       "    .dataframe thead th {\n",
       "        text-align: right;\n",
       "    }\n",
       "</style>\n",
       "<table border=\"1\" class=\"dataframe\">\n",
       "  <thead>\n",
       "    <tr style=\"text-align: right;\">\n",
       "      <th></th>\n",
       "      <th>id</th>\n",
       "      <th>gender</th>\n",
       "      <th>ever_married</th>\n",
       "      <th>age</th>\n",
       "      <th>graduated</th>\n",
       "      <th>profession</th>\n",
       "      <th>work_experience</th>\n",
       "      <th>spending_score</th>\n",
       "      <th>family_size</th>\n",
       "      <th>var_1</th>\n",
       "      <th>segmentation</th>\n",
       "    </tr>\n",
       "  </thead>\n",
       "  <tbody>\n",
       "    <tr>\n",
       "      <th>0</th>\n",
       "      <td>462809</td>\n",
       "      <td>Male</td>\n",
       "      <td>No</td>\n",
       "      <td>22</td>\n",
       "      <td>No</td>\n",
       "      <td>Healthcare</td>\n",
       "      <td>1.0</td>\n",
       "      <td>Low</td>\n",
       "      <td>4.0</td>\n",
       "      <td>Cat_4</td>\n",
       "      <td>D</td>\n",
       "    </tr>\n",
       "  </tbody>\n",
       "</table>\n",
       "</div>"
      ],
      "text/plain": [
       "       id gender ever_married  age graduated  profession  work_experience  \\\n",
       "0  462809   Male           No   22        No  Healthcare              1.0   \n",
       "\n",
       "  spending_score  family_size  var_1 segmentation  \n",
       "0            Low          4.0  Cat_4            D  "
      ]
     },
     "execution_count": 7,
     "metadata": {},
     "output_type": "execute_result"
    }
   ],
   "source": [
    "##Step 2: Clean Data\n",
    "#columns:\n",
    "df1.columns = df1.columns.str.strip().str.lower()\n",
    "df1.head(1)"
   ]
  },
  {
   "cell_type": "code",
   "execution_count": 8,
   "id": "6d023666",
   "metadata": {},
   "outputs": [
    {
     "data": {
      "text/plain": [
       "id                   int64\n",
       "gender              object\n",
       "ever_married        object\n",
       "age                  int64\n",
       "graduated           object\n",
       "profession          object\n",
       "work_experience    float64\n",
       "spending_score      object\n",
       "family_size        float64\n",
       "var_1               object\n",
       "segmentation        object\n",
       "dtype: object"
      ]
     },
     "execution_count": 8,
     "metadata": {},
     "output_type": "execute_result"
    }
   ],
   "source": [
    "df1.dtypes"
   ]
  },
  {
   "cell_type": "code",
   "execution_count": 9,
   "id": "36a33407",
   "metadata": {},
   "outputs": [
    {
     "data": {
      "text/plain": [
       "count      7992\n",
       "unique        7\n",
       "top       Cat_6\n",
       "freq       5238\n",
       "Name: var_1, dtype: object"
      ]
     },
     "execution_count": 9,
     "metadata": {},
     "output_type": "execute_result"
    }
   ],
   "source": [
    "df1.var_1.describe()"
   ]
  },
  {
   "cell_type": "code",
   "execution_count": 10,
   "id": "bc263508",
   "metadata": {},
   "outputs": [
    {
     "data": {
      "text/html": [
       "<div>\n",
       "<style scoped>\n",
       "    .dataframe tbody tr th:only-of-type {\n",
       "        vertical-align: middle;\n",
       "    }\n",
       "\n",
       "    .dataframe tbody tr th {\n",
       "        vertical-align: top;\n",
       "    }\n",
       "\n",
       "    .dataframe thead th {\n",
       "        text-align: right;\n",
       "    }\n",
       "</style>\n",
       "<table border=\"1\" class=\"dataframe\">\n",
       "  <thead>\n",
       "    <tr style=\"text-align: right;\">\n",
       "      <th></th>\n",
       "      <th>gender</th>\n",
       "      <th>ever_married</th>\n",
       "      <th>age</th>\n",
       "      <th>graduated</th>\n",
       "      <th>profession</th>\n",
       "      <th>work_experience</th>\n",
       "      <th>spending_score</th>\n",
       "      <th>family_size</th>\n",
       "      <th>segmentation</th>\n",
       "    </tr>\n",
       "  </thead>\n",
       "  <tbody>\n",
       "    <tr>\n",
       "      <th>0</th>\n",
       "      <td>Male</td>\n",
       "      <td>No</td>\n",
       "      <td>22</td>\n",
       "      <td>No</td>\n",
       "      <td>Healthcare</td>\n",
       "      <td>1.0</td>\n",
       "      <td>Low</td>\n",
       "      <td>4.0</td>\n",
       "      <td>D</td>\n",
       "    </tr>\n",
       "  </tbody>\n",
       "</table>\n",
       "</div>"
      ],
      "text/plain": [
       "  gender ever_married  age graduated  profession  work_experience  \\\n",
       "0   Male           No   22        No  Healthcare              1.0   \n",
       "\n",
       "  spending_score  family_size segmentation  \n",
       "0            Low          4.0            D  "
      ]
     },
     "execution_count": 10,
     "metadata": {},
     "output_type": "execute_result"
    }
   ],
   "source": [
    "##Step 2: Clean Data\n",
    "#Rows:\n",
    "#Check Null Value\n",
    "#Check Formats\n",
    "#Check Duplicates\n",
    "#Check Data Ranges\n",
    "#Drop un-necessary columns\n",
    "df1.drop('id', axis=1 , inplace=True)\n",
    "df1.drop('var_1', axis=1 , inplace=True)\n",
    "\n",
    "df1.head(1)"
   ]
  },
  {
   "cell_type": "code",
   "execution_count": 11,
   "id": "32e8ac6b",
   "metadata": {},
   "outputs": [
    {
     "data": {
      "text/plain": [
       "719"
      ]
     },
     "execution_count": 11,
     "metadata": {},
     "output_type": "execute_result"
    }
   ],
   "source": [
    "df1.duplicated().sum()"
   ]
  },
  {
   "cell_type": "code",
   "execution_count": 12,
   "id": "aef450fb",
   "metadata": {},
   "outputs": [
    {
     "data": {
      "text/plain": [
       "0       False\n",
       "1       False\n",
       "2       False\n",
       "3       False\n",
       "4       False\n",
       "        ...  \n",
       "8063    False\n",
       "8064    False\n",
       "8065     True\n",
       "8066    False\n",
       "8067    False\n",
       "Length: 8068, dtype: bool"
      ]
     },
     "execution_count": 12,
     "metadata": {},
     "output_type": "execute_result"
    }
   ],
   "source": [
    "df1.duplicated(keep='first')"
   ]
  },
  {
   "cell_type": "code",
   "execution_count": 13,
   "id": "8e93dd1c",
   "metadata": {},
   "outputs": [
    {
     "data": {
      "text/html": [
       "<div>\n",
       "<style scoped>\n",
       "    .dataframe tbody tr th:only-of-type {\n",
       "        vertical-align: middle;\n",
       "    }\n",
       "\n",
       "    .dataframe tbody tr th {\n",
       "        vertical-align: top;\n",
       "    }\n",
       "\n",
       "    .dataframe thead th {\n",
       "        text-align: right;\n",
       "    }\n",
       "</style>\n",
       "<table border=\"1\" class=\"dataframe\">\n",
       "  <thead>\n",
       "    <tr style=\"text-align: right;\">\n",
       "      <th></th>\n",
       "      <th>gender</th>\n",
       "      <th>ever_married</th>\n",
       "      <th>age</th>\n",
       "      <th>graduated</th>\n",
       "      <th>profession</th>\n",
       "      <th>work_experience</th>\n",
       "      <th>spending_score</th>\n",
       "      <th>family_size</th>\n",
       "      <th>segmentation</th>\n",
       "    </tr>\n",
       "  </thead>\n",
       "  <tbody>\n",
       "    <tr>\n",
       "      <th>1</th>\n",
       "      <td>Female</td>\n",
       "      <td>Yes</td>\n",
       "      <td>38</td>\n",
       "      <td>Yes</td>\n",
       "      <td>Engineer</td>\n",
       "      <td>NaN</td>\n",
       "      <td>Average</td>\n",
       "      <td>3.0</td>\n",
       "      <td>A</td>\n",
       "    </tr>\n",
       "    <tr>\n",
       "      <th>2</th>\n",
       "      <td>Female</td>\n",
       "      <td>Yes</td>\n",
       "      <td>67</td>\n",
       "      <td>Yes</td>\n",
       "      <td>Engineer</td>\n",
       "      <td>1.0</td>\n",
       "      <td>Low</td>\n",
       "      <td>1.0</td>\n",
       "      <td>B</td>\n",
       "    </tr>\n",
       "    <tr>\n",
       "      <th>4</th>\n",
       "      <td>Female</td>\n",
       "      <td>Yes</td>\n",
       "      <td>40</td>\n",
       "      <td>Yes</td>\n",
       "      <td>Entertainment</td>\n",
       "      <td>NaN</td>\n",
       "      <td>High</td>\n",
       "      <td>6.0</td>\n",
       "      <td>A</td>\n",
       "    </tr>\n",
       "    <tr>\n",
       "      <th>5</th>\n",
       "      <td>Male</td>\n",
       "      <td>Yes</td>\n",
       "      <td>56</td>\n",
       "      <td>No</td>\n",
       "      <td>Artist</td>\n",
       "      <td>0.0</td>\n",
       "      <td>Average</td>\n",
       "      <td>2.0</td>\n",
       "      <td>C</td>\n",
       "    </tr>\n",
       "    <tr>\n",
       "      <th>6</th>\n",
       "      <td>Male</td>\n",
       "      <td>No</td>\n",
       "      <td>32</td>\n",
       "      <td>Yes</td>\n",
       "      <td>Healthcare</td>\n",
       "      <td>1.0</td>\n",
       "      <td>Low</td>\n",
       "      <td>3.0</td>\n",
       "      <td>C</td>\n",
       "    </tr>\n",
       "    <tr>\n",
       "      <th>...</th>\n",
       "      <td>...</td>\n",
       "      <td>...</td>\n",
       "      <td>...</td>\n",
       "      <td>...</td>\n",
       "      <td>...</td>\n",
       "      <td>...</td>\n",
       "      <td>...</td>\n",
       "      <td>...</td>\n",
       "      <td>...</td>\n",
       "    </tr>\n",
       "    <tr>\n",
       "      <th>8063</th>\n",
       "      <td>Male</td>\n",
       "      <td>No</td>\n",
       "      <td>22</td>\n",
       "      <td>No</td>\n",
       "      <td>NaN</td>\n",
       "      <td>0.0</td>\n",
       "      <td>Low</td>\n",
       "      <td>7.0</td>\n",
       "      <td>D</td>\n",
       "    </tr>\n",
       "    <tr>\n",
       "      <th>8064</th>\n",
       "      <td>Male</td>\n",
       "      <td>No</td>\n",
       "      <td>35</td>\n",
       "      <td>No</td>\n",
       "      <td>Executive</td>\n",
       "      <td>3.0</td>\n",
       "      <td>Low</td>\n",
       "      <td>4.0</td>\n",
       "      <td>D</td>\n",
       "    </tr>\n",
       "    <tr>\n",
       "      <th>8065</th>\n",
       "      <td>Female</td>\n",
       "      <td>No</td>\n",
       "      <td>33</td>\n",
       "      <td>Yes</td>\n",
       "      <td>Healthcare</td>\n",
       "      <td>1.0</td>\n",
       "      <td>Low</td>\n",
       "      <td>1.0</td>\n",
       "      <td>D</td>\n",
       "    </tr>\n",
       "    <tr>\n",
       "      <th>8066</th>\n",
       "      <td>Female</td>\n",
       "      <td>No</td>\n",
       "      <td>27</td>\n",
       "      <td>Yes</td>\n",
       "      <td>Healthcare</td>\n",
       "      <td>1.0</td>\n",
       "      <td>Low</td>\n",
       "      <td>4.0</td>\n",
       "      <td>B</td>\n",
       "    </tr>\n",
       "    <tr>\n",
       "      <th>8067</th>\n",
       "      <td>Male</td>\n",
       "      <td>Yes</td>\n",
       "      <td>37</td>\n",
       "      <td>Yes</td>\n",
       "      <td>Executive</td>\n",
       "      <td>0.0</td>\n",
       "      <td>Average</td>\n",
       "      <td>3.0</td>\n",
       "      <td>B</td>\n",
       "    </tr>\n",
       "  </tbody>\n",
       "</table>\n",
       "<p>7349 rows × 9 columns</p>\n",
       "</div>"
      ],
      "text/plain": [
       "      gender ever_married  age graduated     profession  work_experience  \\\n",
       "1     Female          Yes   38       Yes       Engineer              NaN   \n",
       "2     Female          Yes   67       Yes       Engineer              1.0   \n",
       "4     Female          Yes   40       Yes  Entertainment              NaN   \n",
       "5       Male          Yes   56        No         Artist              0.0   \n",
       "6       Male           No   32       Yes     Healthcare              1.0   \n",
       "...      ...          ...  ...       ...            ...              ...   \n",
       "8063    Male           No   22        No            NaN              0.0   \n",
       "8064    Male           No   35        No      Executive              3.0   \n",
       "8065  Female           No   33       Yes     Healthcare              1.0   \n",
       "8066  Female           No   27       Yes     Healthcare              1.0   \n",
       "8067    Male          Yes   37       Yes      Executive              0.0   \n",
       "\n",
       "     spending_score  family_size segmentation  \n",
       "1           Average          3.0            A  \n",
       "2               Low          1.0            B  \n",
       "4              High          6.0            A  \n",
       "5           Average          2.0            C  \n",
       "6               Low          3.0            C  \n",
       "...             ...          ...          ...  \n",
       "8063            Low          7.0            D  \n",
       "8064            Low          4.0            D  \n",
       "8065            Low          1.0            D  \n",
       "8066            Low          4.0            B  \n",
       "8067        Average          3.0            B  \n",
       "\n",
       "[7349 rows x 9 columns]"
      ]
     },
     "execution_count": 13,
     "metadata": {},
     "output_type": "execute_result"
    }
   ],
   "source": [
    " df2= df1.drop_duplicates(keep='last')\n",
    "df2"
   ]
  },
  {
   "cell_type": "code",
   "execution_count": 14,
   "id": "45618c11",
   "metadata": {},
   "outputs": [
    {
     "data": {
      "text/plain": [
       "0"
      ]
     },
     "execution_count": 14,
     "metadata": {},
     "output_type": "execute_result"
    }
   ],
   "source": [
    "df2.duplicated().sum()"
   ]
  },
  {
   "cell_type": "code",
   "execution_count": 15,
   "id": "ca2bdd8c",
   "metadata": {},
   "outputs": [
    {
     "data": {
      "text/plain": [
       "gender               0\n",
       "ever_married       140\n",
       "age                  0\n",
       "graduated           77\n",
       "profession         123\n",
       "work_experience    786\n",
       "spending_score       0\n",
       "family_size        326\n",
       "segmentation         0\n",
       "dtype: int64"
      ]
     },
     "execution_count": 15,
     "metadata": {},
     "output_type": "execute_result"
    }
   ],
   "source": [
    "df2.isnull().sum()"
   ]
  },
  {
   "cell_type": "code",
   "execution_count": 16,
   "id": "b1891a58",
   "metadata": {},
   "outputs": [
    {
     "data": {
      "text/plain": [
       "gender              0.0\n",
       "ever_married        1.9\n",
       "age                 0.0\n",
       "graduated           1.0\n",
       "profession          1.7\n",
       "work_experience    10.7\n",
       "spending_score      0.0\n",
       "family_size         4.4\n",
       "segmentation        0.0\n",
       "dtype: float64"
      ]
     },
     "execution_count": 16,
     "metadata": {},
     "output_type": "execute_result"
    }
   ],
   "source": [
    "round((df2.isnull().sum() / df2.shape[0])* 100, 1)"
   ]
  },
  {
   "cell_type": "code",
   "execution_count": 17,
   "id": "9b0f12c4",
   "metadata": {},
   "outputs": [
    {
     "name": "stdout",
     "output_type": "stream",
     "text": [
      "<class 'pandas.core.frame.DataFrame'>\n",
      "Int64Index: 7349 entries, 1 to 8067\n",
      "Data columns (total 9 columns):\n",
      " #   Column           Non-Null Count  Dtype  \n",
      "---  ------           --------------  -----  \n",
      " 0   gender           7349 non-null   object \n",
      " 1   ever_married     7209 non-null   object \n",
      " 2   age              7349 non-null   int64  \n",
      " 3   graduated        7272 non-null   object \n",
      " 4   profession       7226 non-null   object \n",
      " 5   work_experience  6563 non-null   float64\n",
      " 6   spending_score   7349 non-null   object \n",
      " 7   family_size      7023 non-null   float64\n",
      " 8   segmentation     7349 non-null   object \n",
      "dtypes: float64(2), int64(1), object(6)\n",
      "memory usage: 574.1+ KB\n"
     ]
    }
   ],
   "source": [
    "df2.info()"
   ]
  },
  {
   "cell_type": "code",
   "execution_count": 18,
   "id": "0c8643be",
   "metadata": {},
   "outputs": [],
   "source": [
    "#Handling the missing value by depending on the data type of columns\n",
    "\n",
    "df_clean =df2.fillna({\n",
    "    \n",
    "         'ever_married':df2.ever_married.mode()[0],\n",
    "          'profession' :df2.profession.mode()[0],\n",
    "            'graduated':df2.graduated.mode()[0],\n",
    "            'family_size':df2.family_size.mean(),\n",
    "           \"work_experience\":df2.work_experience.mean(),\n",
    "            \n",
    "})"
   ]
  },
  {
   "cell_type": "code",
   "execution_count": 19,
   "id": "b1c87b2f",
   "metadata": {},
   "outputs": [
    {
     "data": {
      "text/plain": [
       "gender             0\n",
       "ever_married       0\n",
       "age                0\n",
       "graduated          0\n",
       "profession         0\n",
       "work_experience    0\n",
       "spending_score     0\n",
       "family_size        0\n",
       "segmentation       0\n",
       "dtype: int64"
      ]
     },
     "execution_count": 19,
     "metadata": {},
     "output_type": "execute_result"
    }
   ],
   "source": [
    "df_clean.isnull().sum()"
   ]
  },
  {
   "cell_type": "code",
   "execution_count": 20,
   "id": "3fe09389",
   "metadata": {},
   "outputs": [
    {
     "data": {
      "text/plain": [
       "<Figure size 1080x576 with 0 Axes>"
      ]
     },
     "metadata": {},
     "output_type": "display_data"
    },
    {
     "data": {
      "image/png": "[encoded data removed]",
      "text/plain": [
       "<Figure size 360x360 with 1 Axes>"
      ]
     },
     "metadata": {},
     "output_type": "display_data"
    }
   ],
   "source": [
    "##Step 3: Explore Data (EDA)\n",
    "#Visulazing the distibution of the Target\n",
    "# My target is segmentation\n",
    "sns.set(style='darkgrid')\n",
    "plt.figure(figsize=(15,8))\n",
    "sns.catplot (x = 'segmentation', data = df_clean, color = '#333652', kind='count',palette='YlOrBr_r' );"
   ]
  },
  {
   "cell_type": "code",
   "execution_count": 21,
   "id": "63bf0823",
   "metadata": {},
   "outputs": [
    {
     "data": {
      "text/plain": [
       "<AxesSubplot:xlabel='age', ylabel='Count'>"
      ]
     },
     "execution_count": 21,
     "metadata": {},
     "output_type": "execute_result"
    },
    {
     "data": {
      "image/png": "[encoded data removed]",
      "text/plain": [
       "<Figure size 720x576 with 1 Axes>"
      ]
     },
     "metadata": {},
     "output_type": "display_data"
    }
   ],
   "source": [
    "plt.figure(figsize=(10,8))\n",
    "sns.histplot(x = 'age', data = df_clean, hue='segmentation', palette= \"YlOrBr_r\", kde= True)"
   ]
  },
  {
   "cell_type": "code",
   "execution_count": 22,
   "id": "c4e606ba",
   "metadata": {},
   "outputs": [
    {
     "data": {
      "image/png": "[encoded data removed]",
      "text/plain": [
       "<Figure size 576x576 with 1 Axes>"
      ]
     },
     "metadata": {},
     "output_type": "display_data"
    }
   ],
   "source": [
    "figure = plt.figure(figsize=(8,8) )\n",
    "df_clean.groupby('gender').size().plot(kind='pie', autopct='%.4f', colors=[\"#c36900\",\"#fbcc94\",\"b\"]);"
   ]
  },
  {
   "cell_type": "code",
   "execution_count": 23,
   "id": "9d0ca3d9",
   "metadata": {},
   "outputs": [
    {
     "data": {
      "text/html": [
       "<div>\n",
       "<style scoped>\n",
       "    .dataframe tbody tr th:only-of-type {\n",
       "        vertical-align: middle;\n",
       "    }\n",
       "\n",
       "    .dataframe tbody tr th {\n",
       "        vertical-align: top;\n",
       "    }\n",
       "\n",
       "    .dataframe thead th {\n",
       "        text-align: right;\n",
       "    }\n",
       "</style>\n",
       "<table border=\"1\" class=\"dataframe\">\n",
       "  <thead>\n",
       "    <tr style=\"text-align: right;\">\n",
       "      <th></th>\n",
       "      <th>gender</th>\n",
       "      <th>ever_married</th>\n",
       "      <th>age</th>\n",
       "      <th>graduated</th>\n",
       "      <th>profession</th>\n",
       "      <th>work_experience</th>\n",
       "      <th>spending_score</th>\n",
       "      <th>family_size</th>\n",
       "      <th>segmentation</th>\n",
       "    </tr>\n",
       "  </thead>\n",
       "  <tbody>\n",
       "    <tr>\n",
       "      <th>1</th>\n",
       "      <td>Female</td>\n",
       "      <td>Yes</td>\n",
       "      <td>38</td>\n",
       "      <td>Yes</td>\n",
       "      <td>Engineer</td>\n",
       "      <td>NaN</td>\n",
       "      <td>Average</td>\n",
       "      <td>3.0</td>\n",
       "      <td>A</td>\n",
       "    </tr>\n",
       "  </tbody>\n",
       "</table>\n",
       "</div>"
      ],
      "text/plain": [
       "   gender ever_married  age graduated profession  work_experience  \\\n",
       "1  Female          Yes   38       Yes   Engineer              NaN   \n",
       "\n",
       "  spending_score  family_size segmentation  \n",
       "1        Average          3.0            A  "
      ]
     },
     "execution_count": 23,
     "metadata": {},
     "output_type": "execute_result"
    }
   ],
   "source": [
    "df2.head(1)"
   ]
  },
  {
   "cell_type": "code",
   "execution_count": 24,
   "id": "914d9710",
   "metadata": {},
   "outputs": [
    {
     "data": {
      "text/plain": [
       "<AxesSubplot:ylabel='gender,spending_score'>"
      ]
     },
     "execution_count": 24,
     "metadata": {},
     "output_type": "execute_result"
    },
    {
     "data": {
      "image/png": "[encoded data removed]",
      "text/plain": [
       "<Figure size 432x288 with 1 Axes>"
      ]
     },
     "metadata": {},
     "output_type": "display_data"
    }
   ],
   "source": [
    "df_clean.groupby(['gender','spending_score'])[['spending_score']].count().plot(kind = 'barh', legend=False, color='#c36900')"
   ]
  },
  {
   "cell_type": "code",
   "execution_count": 25,
   "id": "6001422a",
   "metadata": {},
   "outputs": [
    {
     "data": {
      "image/png": "[encoded data removed]",
      "text/plain": [
       "<Figure size 864x576 with 1 Axes>"
      ]
     },
     "metadata": {},
     "output_type": "display_data"
    },
    {
     "data": {
      "text/plain": [
       "<Figure size 864x576 with 0 Axes>"
      ]
     },
     "metadata": {},
     "output_type": "display_data"
    },
    {
     "data": {
      "image/png": "[encoded data removed]",
      "text/plain": [
       "<Figure size 432x288 with 1 Axes>"
      ]
     },
     "metadata": {},
     "output_type": "display_data"
    },
    {
     "data": {
      "text/plain": [
       "<Figure size 864x576 with 0 Axes>"
      ]
     },
     "metadata": {},
     "output_type": "display_data"
    },
    {
     "data": {
      "image/png": "[encoded data removed]",
      "text/plain": [
       "<Figure size 432x288 with 1 Axes>"
      ]
     },
     "metadata": {},
     "output_type": "display_data"
    },
    {
     "data": {
      "text/plain": [
       "<Figure size 864x576 with 0 Axes>"
      ]
     },
     "metadata": {},
     "output_type": "display_data"
    },
    {
     "data": {
      "image/png": "[encoded data removed]",
      "text/plain": [
       "<Figure size 432x288 with 1 Axes>"
      ]
     },
     "metadata": {},
     "output_type": "display_data"
    },
    {
     "data": {
      "text/plain": [
       "<Figure size 864x576 with 0 Axes>"
      ]
     },
     "metadata": {},
     "output_type": "display_data"
    },
    {
     "data": {
      "image/png": "[encoded data removed]",
      "text/plain": [
       "<Figure size 432x288 with 1 Axes>"
      ]
     },
     "metadata": {},
     "output_type": "display_data"
    },
    {
     "data": {
      "text/plain": [
       "<Figure size 864x576 with 0 Axes>"
      ]
     },
     "metadata": {},
     "output_type": "display_data"
    },
    {
     "data": {
      "image/png": "[encoded data removed]",
      "text/plain": [
       "<Figure size 432x288 with 1 Axes>"
      ]
     },
     "metadata": {},
     "output_type": "display_data"
    }
   ],
   "source": [
    "plt.figure(figsize=(12,8))\n",
    "for col in df_clean.columns:\n",
    "     if df_clean[col].nunique() <= 4:\n",
    "        sns.countplot(x= col ,data= df_clean, hue='segmentation' , palette= \"YlOrBr_r\")\n",
    "        plt.figure(figsize = (12,8))\n",
    "        plt.show()\n",
    "        \n",
    "else:\n",
    "        sns.histplot(x= col ,data= df_clean, hue='segmentation',palette= \"YlOrBr_r\", kde=True)\n",
    "        plt.show()"
   ]
  },
  {
   "cell_type": "code",
   "execution_count": 26,
   "id": "ee43e65b",
   "metadata": {},
   "outputs": [
    {
     "data": {
      "text/html": [
       "<div>\n",
       "<style scoped>\n",
       "    .dataframe tbody tr th:only-of-type {\n",
       "        vertical-align: middle;\n",
       "    }\n",
       "\n",
       "    .dataframe tbody tr th {\n",
       "        vertical-align: top;\n",
       "    }\n",
       "\n",
       "    .dataframe thead th {\n",
       "        text-align: right;\n",
       "    }\n",
       "</style>\n",
       "<table border=\"1\" class=\"dataframe\">\n",
       "  <thead>\n",
       "    <tr style=\"text-align: right;\">\n",
       "      <th></th>\n",
       "      <th>gender</th>\n",
       "      <th>ever_married</th>\n",
       "      <th>age</th>\n",
       "      <th>graduated</th>\n",
       "      <th>profession</th>\n",
       "      <th>work_experience</th>\n",
       "      <th>spending_score</th>\n",
       "      <th>family_size</th>\n",
       "      <th>segmentation</th>\n",
       "    </tr>\n",
       "  </thead>\n",
       "  <tbody>\n",
       "    <tr>\n",
       "      <th>1</th>\n",
       "      <td>Female</td>\n",
       "      <td>Yes</td>\n",
       "      <td>38</td>\n",
       "      <td>Yes</td>\n",
       "      <td>Engineer</td>\n",
       "      <td>2.794301</td>\n",
       "      <td>Average</td>\n",
       "      <td>3.0</td>\n",
       "      <td>A</td>\n",
       "    </tr>\n",
       "  </tbody>\n",
       "</table>\n",
       "</div>"
      ],
      "text/plain": [
       "   gender ever_married  age graduated profession  work_experience  \\\n",
       "1  Female          Yes   38       Yes   Engineer         2.794301   \n",
       "\n",
       "  spending_score  family_size segmentation  \n",
       "1        Average          3.0            A  "
      ]
     },
     "execution_count": 26,
     "metadata": {},
     "output_type": "execute_result"
    }
   ],
   "source": [
    "df_clean.head(1)"
   ]
  },
  {
   "cell_type": "code",
   "execution_count": 27,
   "id": "eefa9519",
   "metadata": {},
   "outputs": [],
   "source": [
    "x={'A':1,'B':2,'C':3,'D':4}\n",
    "df_clean.segmentation=df_clean.segmentation.map(x)"
   ]
  },
  {
   "cell_type": "code",
   "execution_count": 28,
   "id": "f8b6a153",
   "metadata": {},
   "outputs": [
    {
     "data": {
      "text/html": [
       "<div>\n",
       "<style scoped>\n",
       "    .dataframe tbody tr th:only-of-type {\n",
       "        vertical-align: middle;\n",
       "    }\n",
       "\n",
       "    .dataframe tbody tr th {\n",
       "        vertical-align: top;\n",
       "    }\n",
       "\n",
       "    .dataframe thead th {\n",
       "        text-align: right;\n",
       "    }\n",
       "</style>\n",
       "<table border=\"1\" class=\"dataframe\">\n",
       "  <thead>\n",
       "    <tr style=\"text-align: right;\">\n",
       "      <th></th>\n",
       "      <th>age</th>\n",
       "      <th>work_experience</th>\n",
       "      <th>family_size</th>\n",
       "      <th>segmentation</th>\n",
       "      <th>gender_Male</th>\n",
       "      <th>ever_married_Yes</th>\n",
       "      <th>graduated_Yes</th>\n",
       "      <th>profession_Doctor</th>\n",
       "      <th>profession_Engineer</th>\n",
       "      <th>profession_Entertainment</th>\n",
       "      <th>profession_Executive</th>\n",
       "      <th>profession_Healthcare</th>\n",
       "      <th>profession_Homemaker</th>\n",
       "      <th>profession_Lawyer</th>\n",
       "      <th>profession_Marketing</th>\n",
       "      <th>spending_score_High</th>\n",
       "      <th>spending_score_Low</th>\n",
       "    </tr>\n",
       "  </thead>\n",
       "  <tbody>\n",
       "    <tr>\n",
       "      <th>1</th>\n",
       "      <td>38</td>\n",
       "      <td>2.794301</td>\n",
       "      <td>3.0</td>\n",
       "      <td>1</td>\n",
       "      <td>0</td>\n",
       "      <td>1</td>\n",
       "      <td>1</td>\n",
       "      <td>0</td>\n",
       "      <td>1</td>\n",
       "      <td>0</td>\n",
       "      <td>0</td>\n",
       "      <td>0</td>\n",
       "      <td>0</td>\n",
       "      <td>0</td>\n",
       "      <td>0</td>\n",
       "      <td>0</td>\n",
       "      <td>0</td>\n",
       "    </tr>\n",
       "    <tr>\n",
       "      <th>2</th>\n",
       "      <td>67</td>\n",
       "      <td>1.000000</td>\n",
       "      <td>1.0</td>\n",
       "      <td>2</td>\n",
       "      <td>0</td>\n",
       "      <td>1</td>\n",
       "      <td>1</td>\n",
       "      <td>0</td>\n",
       "      <td>1</td>\n",
       "      <td>0</td>\n",
       "      <td>0</td>\n",
       "      <td>0</td>\n",
       "      <td>0</td>\n",
       "      <td>0</td>\n",
       "      <td>0</td>\n",
       "      <td>0</td>\n",
       "      <td>1</td>\n",
       "    </tr>\n",
       "    <tr>\n",
       "      <th>4</th>\n",
       "      <td>40</td>\n",
       "      <td>2.794301</td>\n",
       "      <td>6.0</td>\n",
       "      <td>1</td>\n",
       "      <td>0</td>\n",
       "      <td>1</td>\n",
       "      <td>1</td>\n",
       "      <td>0</td>\n",
       "      <td>0</td>\n",
       "      <td>1</td>\n",
       "      <td>0</td>\n",
       "      <td>0</td>\n",
       "      <td>0</td>\n",
       "      <td>0</td>\n",
       "      <td>0</td>\n",
       "      <td>1</td>\n",
       "      <td>0</td>\n",
       "    </tr>\n",
       "    <tr>\n",
       "      <th>5</th>\n",
       "      <td>56</td>\n",
       "      <td>0.000000</td>\n",
       "      <td>2.0</td>\n",
       "      <td>3</td>\n",
       "      <td>1</td>\n",
       "      <td>1</td>\n",
       "      <td>0</td>\n",
       "      <td>0</td>\n",
       "      <td>0</td>\n",
       "      <td>0</td>\n",
       "      <td>0</td>\n",
       "      <td>0</td>\n",
       "      <td>0</td>\n",
       "      <td>0</td>\n",
       "      <td>0</td>\n",
       "      <td>0</td>\n",
       "      <td>0</td>\n",
       "    </tr>\n",
       "    <tr>\n",
       "      <th>6</th>\n",
       "      <td>32</td>\n",
       "      <td>1.000000</td>\n",
       "      <td>3.0</td>\n",
       "      <td>3</td>\n",
       "      <td>1</td>\n",
       "      <td>0</td>\n",
       "      <td>1</td>\n",
       "      <td>0</td>\n",
       "      <td>0</td>\n",
       "      <td>0</td>\n",
       "      <td>0</td>\n",
       "      <td>1</td>\n",
       "      <td>0</td>\n",
       "      <td>0</td>\n",
       "      <td>0</td>\n",
       "      <td>0</td>\n",
       "      <td>1</td>\n",
       "    </tr>\n",
       "    <tr>\n",
       "      <th>...</th>\n",
       "      <td>...</td>\n",
       "      <td>...</td>\n",
       "      <td>...</td>\n",
       "      <td>...</td>\n",
       "      <td>...</td>\n",
       "      <td>...</td>\n",
       "      <td>...</td>\n",
       "      <td>...</td>\n",
       "      <td>...</td>\n",
       "      <td>...</td>\n",
       "      <td>...</td>\n",
       "      <td>...</td>\n",
       "      <td>...</td>\n",
       "      <td>...</td>\n",
       "      <td>...</td>\n",
       "      <td>...</td>\n",
       "      <td>...</td>\n",
       "    </tr>\n",
       "    <tr>\n",
       "      <th>8063</th>\n",
       "      <td>22</td>\n",
       "      <td>0.000000</td>\n",
       "      <td>7.0</td>\n",
       "      <td>4</td>\n",
       "      <td>1</td>\n",
       "      <td>0</td>\n",
       "      <td>0</td>\n",
       "      <td>0</td>\n",
       "      <td>0</td>\n",
       "      <td>0</td>\n",
       "      <td>0</td>\n",
       "      <td>0</td>\n",
       "      <td>0</td>\n",
       "      <td>0</td>\n",
       "      <td>0</td>\n",
       "      <td>0</td>\n",
       "      <td>1</td>\n",
       "    </tr>\n",
       "    <tr>\n",
       "      <th>8064</th>\n",
       "      <td>35</td>\n",
       "      <td>3.000000</td>\n",
       "      <td>4.0</td>\n",
       "      <td>4</td>\n",
       "      <td>1</td>\n",
       "      <td>0</td>\n",
       "      <td>0</td>\n",
       "      <td>0</td>\n",
       "      <td>0</td>\n",
       "      <td>0</td>\n",
       "      <td>1</td>\n",
       "      <td>0</td>\n",
       "      <td>0</td>\n",
       "      <td>0</td>\n",
       "      <td>0</td>\n",
       "      <td>0</td>\n",
       "      <td>1</td>\n",
       "    </tr>\n",
       "    <tr>\n",
       "      <th>8065</th>\n",
       "      <td>33</td>\n",
       "      <td>1.000000</td>\n",
       "      <td>1.0</td>\n",
       "      <td>4</td>\n",
       "      <td>0</td>\n",
       "      <td>0</td>\n",
       "      <td>1</td>\n",
       "      <td>0</td>\n",
       "      <td>0</td>\n",
       "      <td>0</td>\n",
       "      <td>0</td>\n",
       "      <td>1</td>\n",
       "      <td>0</td>\n",
       "      <td>0</td>\n",
       "      <td>0</td>\n",
       "      <td>0</td>\n",
       "      <td>1</td>\n",
       "    </tr>\n",
       "    <tr>\n",
       "      <th>8066</th>\n",
       "      <td>27</td>\n",
       "      <td>1.000000</td>\n",
       "      <td>4.0</td>\n",
       "      <td>2</td>\n",
       "      <td>0</td>\n",
       "      <td>0</td>\n",
       "      <td>1</td>\n",
       "      <td>0</td>\n",
       "      <td>0</td>\n",
       "      <td>0</td>\n",
       "      <td>0</td>\n",
       "      <td>1</td>\n",
       "      <td>0</td>\n",
       "      <td>0</td>\n",
       "      <td>0</td>\n",
       "      <td>0</td>\n",
       "      <td>1</td>\n",
       "    </tr>\n",
       "    <tr>\n",
       "      <th>8067</th>\n",
       "      <td>37</td>\n",
       "      <td>0.000000</td>\n",
       "      <td>3.0</td>\n",
       "      <td>2</td>\n",
       "      <td>1</td>\n",
       "      <td>1</td>\n",
       "      <td>1</td>\n",
       "      <td>0</td>\n",
       "      <td>0</td>\n",
       "      <td>0</td>\n",
       "      <td>1</td>\n",
       "      <td>0</td>\n",
       "      <td>0</td>\n",
       "      <td>0</td>\n",
       "      <td>0</td>\n",
       "      <td>0</td>\n",
       "      <td>0</td>\n",
       "    </tr>\n",
       "  </tbody>\n",
       "</table>\n",
       "<p>7349 rows × 17 columns</p>\n",
       "</div>"
      ],
      "text/plain": [
       "      age  work_experience  family_size  segmentation  gender_Male  \\\n",
       "1      38         2.794301          3.0             1            0   \n",
       "2      67         1.000000          1.0             2            0   \n",
       "4      40         2.794301          6.0             1            0   \n",
       "5      56         0.000000          2.0             3            1   \n",
       "6      32         1.000000          3.0             3            1   \n",
       "...   ...              ...          ...           ...          ...   \n",
       "8063   22         0.000000          7.0             4            1   \n",
       "8064   35         3.000000          4.0             4            1   \n",
       "8065   33         1.000000          1.0             4            0   \n",
       "8066   27         1.000000          4.0             2            0   \n",
       "8067   37         0.000000          3.0             2            1   \n",
       "\n",
       "      ever_married_Yes  graduated_Yes  profession_Doctor  profession_Engineer  \\\n",
       "1                    1              1                  0                    1   \n",
       "2                    1              1                  0                    1   \n",
       "4                    1              1                  0                    0   \n",
       "5                    1              0                  0                    0   \n",
       "6                    0              1                  0                    0   \n",
       "...                ...            ...                ...                  ...   \n",
       "8063                 0              0                  0                    0   \n",
       "8064                 0              0                  0                    0   \n",
       "8065                 0              1                  0                    0   \n",
       "8066                 0              1                  0                    0   \n",
       "8067                 1              1                  0                    0   \n",
       "\n",
       "      profession_Entertainment  profession_Executive  profession_Healthcare  \\\n",
       "1                            0                     0                      0   \n",
       "2                            0                     0                      0   \n",
       "4                            1                     0                      0   \n",
       "5                            0                     0                      0   \n",
       "6                            0                     0                      1   \n",
       "...                        ...                   ...                    ...   \n",
       "8063                         0                     0                      0   \n",
       "8064                         0                     1                      0   \n",
       "8065                         0                     0                      1   \n",
       "8066                         0                     0                      1   \n",
       "8067                         0                     1                      0   \n",
       "\n",
       "      profession_Homemaker  profession_Lawyer  profession_Marketing  \\\n",
       "1                        0                  0                     0   \n",
       "2                        0                  0                     0   \n",
       "4                        0                  0                     0   \n",
       "5                        0                  0                     0   \n",
       "6                        0                  0                     0   \n",
       "...                    ...                ...                   ...   \n",
       "8063                     0                  0                     0   \n",
       "8064                     0                  0                     0   \n",
       "8065                     0                  0                     0   \n",
       "8066                     0                  0                     0   \n",
       "8067                     0                  0                     0   \n",
       "\n",
       "      spending_score_High  spending_score_Low  \n",
       "1                       0                   0  \n",
       "2                       0                   1  \n",
       "4                       1                   0  \n",
       "5                       0                   0  \n",
       "6                       0                   1  \n",
       "...                   ...                 ...  \n",
       "8063                    0                   1  \n",
       "8064                    0                   1  \n",
       "8065                    0                   1  \n",
       "8066                    0                   1  \n",
       "8067                    0                   0  \n",
       "\n",
       "[7349 rows x 17 columns]"
      ]
     },
     "execution_count": 28,
     "metadata": {},
     "output_type": "execute_result"
    }
   ],
   "source": [
    "#Step 4 Modeling\n",
    "#Step 4.1: Preprocessing\n",
    "#Create dummy cols for Categorical cols\n",
    "#Create X & Y\n",
    "#Split Data into Train vs Test\n",
    "#Standerdize the Dataset\n",
    "\n",
    "df1 = pd.get_dummies(df_clean, drop_first=True)\n",
    "df1"
   ]
  },
  {
   "cell_type": "code",
   "execution_count": 29,
   "id": "c21d37ef",
   "metadata": {},
   "outputs": [],
   "source": [
    "# Create X & Y\n",
    "\n",
    "x = df1.drop(columns ='segmentation',axis=1)\n",
    "y = df1.segmentation"
   ]
  },
  {
   "cell_type": "code",
   "execution_count": 30,
   "id": "7d66d979",
   "metadata": {},
   "outputs": [],
   "source": [
    "from sklearn.model_selection  import train_test_split\n",
    "from sklearn.metrics import recall_score, f1_score, precision_score\n",
    "\n",
    "\n",
    "x_train, x_test, y_train, y_test = train_test_split(x, y, test_size = 0.3, random_state = 42)"
   ]
  },
  {
   "cell_type": "code",
   "execution_count": 31,
   "id": "7f081b90",
   "metadata": {},
   "outputs": [
    {
     "name": "stdout",
     "output_type": "stream",
     "text": [
      "The Model Accuracy is 46.80%,      Recall is 46.80%, Percision is 46.80%,       F1-Score is 46.80% \n"
     ]
    },
    {
     "name": "stderr",
     "output_type": "stream",
     "text": [
      "C:\\Users\\RT\\anaconda3\\envs\\metis\\lib\\site-packages\\sklearn\\linear_model\\_logistic.py:814: ConvergenceWarning: lbfgs failed to converge (status=1):\n",
      "STOP: TOTAL NO. of ITERATIONS REACHED LIMIT.\n",
      "\n",
      "Increase the number of iterations (max_iter) or scale the data as shown in:\n",
      "    https://scikit-learn.org/stable/modules/preprocessing.html\n",
      "Please also refer to the documentation for alternative solver options:\n",
      "    https://scikit-learn.org/stable/modules/linear_model.html#logistic-regression\n",
      "  n_iter_i = _check_optimize_result(\n"
     ]
    }
   ],
   "source": [
    "from sklearn.metrics import recall_score, f1_score, precision_score\n",
    "from sklearn.linear_model import LogisticRegression\n",
    "\n",
    "# 1. Create object \n",
    "\n",
    "lr_model = LogisticRegression()\n",
    "lr_model.fit(x_train, y_train)\n",
    "y_pred = lr_model.predict(x_test)\n",
    "print(\"The Model Accuracy is {:.2f}%,\\\n",
    "      Recall is {:.2f}%, Percision is {:.2f}%, \\\n",
    "      F1-Score is {:.2f}% \".format(lr_model.score(x_test, y_test )*100,\n",
    "                                    recall_score(y_test,y_pred, average='micro')*100 ,\n",
    "                                   precision_score(y_test,y_pred , average='micro')*100, \n",
    "                                  f1_score(y_test,y_pred ,average='micro') *100\n",
    "))"
   ]
  },
  {
   "cell_type": "code",
   "execution_count": 32,
   "id": "2bad0d23",
   "metadata": {},
   "outputs": [
    {
     "name": "stdout",
     "output_type": "stream",
     "text": [
      "The Model Accuracy is 41.81%,      Recall is 41.81%, Percision is 41.81%,        F1-Score is 0.42% \n"
     ]
    }
   ],
   "source": [
    "from sklearn.ensemble import RandomForestClassifier\n",
    "rf_model = RandomForestClassifier(n_estimators=50)\n",
    "rf_model.fit(x_train, y_train)\n",
    "y_pred = rf_model.predict(x_test)\n",
    "print(\"The Model Accuracy is {:.2f}%,\\\n",
    "      Recall is {:.2f}%, Percision is {:.2f}%,  \\\n",
    "      F1-Score is {:.2f}% \".format(rf_model.score(x_test, y_test)*100,\n",
    "                                    recall_score(y_test,y_pred , average='micro')*100 ,\n",
    "                                   f1_score(y_test,y_pred , average='micro')*100 ,\n",
    "                                   precision_score(y_test,y_pred , average='micro') \n",
    "))"
   ]
  },
  {
   "cell_type": "code",
   "execution_count": 33,
   "id": "aacc2c18",
   "metadata": {},
   "outputs": [
    {
     "name": "stdout",
     "output_type": "stream",
     "text": [
      "10-fold cross validation average accuracy: 0.416\n"
     ]
    }
   ],
   "source": [
    "#Using Cross Validation\n",
    "from sklearn.model_selection import cross_val_score\n",
    "scores = cross_val_score(rf_model, x, y, cv=10)\n",
    "print(f\"10-fold cross validation average accuracy: {scores.mean().round(3)}\")"
   ]
  },
  {
   "cell_type": "code",
   "execution_count": 34,
   "id": "10c8a9fe",
   "metadata": {},
   "outputs": [
    {
     "name": "stdout",
     "output_type": "stream",
     "text": [
      "10-fold cross validation max accuracy: 44.55 %\n"
     ]
    }
   ],
   "source": [
    "# max score\n",
    "print(f\"10-fold cross validation max accuracy: {(scores.max() *100).round(2)} %\")"
   ]
  },
  {
   "cell_type": "code",
   "execution_count": 35,
   "id": "bf1ecf9a",
   "metadata": {},
   "outputs": [
    {
     "name": "stdout",
     "output_type": "stream",
     "text": [
      "The Model Accuracy is 41.86%,       Recall is 41.86%, Percision is 41.86%,        F1-Score is 41.86% \n"
     ]
    }
   ],
   "source": [
    "from sklearn.neighbors import KNeighborsClassifier\n",
    "KNN_model = KNeighborsClassifier(n_neighbors = 34 )\n",
    "KNN_model.fit(x_train, y_train)\n",
    "y_pred = KNN_model.predict(x_test)\n",
    "print(\"The Model Accuracy is {:.2f}%, \\\n",
    "      Recall is {:.2f}%, Percision is {:.2f}%,  \\\n",
    "      F1-Score is {:.2f}% \".format(KNN_model.score(x_test, y_test)*100,\n",
    "                                    recall_score(y_test,y_pred , average='micro')*100 ,\n",
    "                                   f1_score(y_test,y_pred , average='micro')*100 ,\n",
    "                                   precision_score(y_test,y_pred , average='micro') *100\n",
    "))"
   ]
  },
  {
   "cell_type": "code",
   "execution_count": 36,
   "id": "c8f12ed8",
   "metadata": {},
   "outputs": [
    {
     "name": "stdout",
     "output_type": "stream",
     "text": [
      "[0.43183673 0.40897959 0.43183673 0.40979592 0.42122449 0.43545752]\n",
      "42.32\n"
     ]
    }
   ],
   "source": [
    "from sklearn.model_selection import cross_val_score\n",
    "\n",
    "# 10-fold cross-validation with K=5 for KNN (the n_neighbors parameter)\n",
    "knn = KNeighborsClassifier(n_neighbors = 34)\n",
    "scores = cross_val_score(knn, #model object\n",
    "                         x, #features\n",
    "                         y, #Target\n",
    "                         cv=6, #Number of Folds\n",
    "                         scoring='accuracy'#evaluation metric\n",
    "                        )\n",
    "print(scores)\n",
    "print(round(scores.mean()*100, 2))"
   ]
  },
  {
   "cell_type": "code",
   "execution_count": 37,
   "id": "6a024213",
   "metadata": {},
   "outputs": [
    {
     "name": "stdout",
     "output_type": "stream",
     "text": [
      "[0.34739828356410685, 0.34821405401397615, 0.3785599362360748, 0.38522864186546557, 0.39039833917218114, 0.40169048545848857, 0.40400341062855655, 0.4049561623014329, 0.398969582383362, 0.4087671689929378, 0.41135072012456203, 0.41488980333277725, 0.413528332313852, 0.4150251163135554, 0.41679475059778676, 0.4193783017294111, 0.41584144284416763, 0.41842684757826837, 0.41624905002873086, 0.41583995996218653, 0.41352536654988975, 0.41053346679271163, 0.4121674173756696, 0.41475263674952273, 0.4184259207770301, 0.41801831359246694, 0.41883482548332684, 0.4188342694025839, 0.4211486774546331, 0.42046970286752305, 0.42196500398524533, 0.4199236315779718, 0.4235972863259746, 0.42550241895123164, 0.42727205323546313, 0.4255031603922223, 0.42223729818903044, 0.42250922167232013, 0.42210105840701406, 0.42359821312721274, 0.4204687760662848, 0.4240076739142523, 0.4211499749763665, 0.4212860293981353, 0.41992474373945765, 0.4195169511946467, 0.4185638288012753, 0.41733952436560456, 0.41992474373945765]\n"
     ]
    }
   ],
   "source": [
    "# search for an optimal value of K for KNN\n",
    "k_range = list(range(1, 50))\n",
    "k_scores = []\n",
    "for k in k_range: \n",
    "    knn = KNeighborsClassifier(n_neighbors = k)\n",
    "    scores = cross_val_score(knn, #model object\n",
    "                         x, #features\n",
    "                         y, #Target\n",
    "                         cv=10, #Number of Folds\n",
    "                         scoring='accuracy'#evaluation metric\n",
    "                        )\n",
    "    k_scores.append(scores.mean())\n",
    "print(k_scores)"
   ]
  },
  {
   "cell_type": "code",
   "execution_count": 38,
   "id": "eef8943b",
   "metadata": {},
   "outputs": [
    {
     "data": {
      "text/plain": [
       "34"
      ]
     },
     "execution_count": 38,
     "metadata": {},
     "output_type": "execute_result"
    }
   ],
   "source": [
    "max(k_scores)*100\n",
    "\n",
    "# To find the the number of Neighbors corresponding to best performance\n",
    "k_scores.index(max(k_scores))"
   ]
  },
  {
   "cell_type": "code",
   "execution_count": 39,
   "id": "b3f1c633",
   "metadata": {},
   "outputs": [
    {
     "name": "stdout",
     "output_type": "stream",
     "text": [
      "The Model Accuracy is 45.90%,       Recall is 45.90%, Percision is 45.90%,        F1-Score is 45.90% \n"
     ]
    }
   ],
   "source": [
    "from sklearn.tree import DecisionTreeClassifier\n",
    "dt = DecisionTreeClassifier(max_depth=3)\n",
    "dt.fit(x_train, y_train)\n",
    "y_pred = dt.predict(x_test)\n",
    "print(\"The Model Accuracy is {:.2f}%, \\\n",
    "      Recall is {:.2f}%, Percision is {:.2f}%,  \\\n",
    "      F1-Score is {:.2f}% \".format(dt.score(x_test, y_test)*100,\n",
    "                                    recall_score(y_test,y_pred , average='micro')*100 ,\n",
    "                                   f1_score(y_test,y_pred , average='micro')*100 ,\n",
    "                                   precision_score(y_test,y_pred ,average='micro' ) *100\n",
    "))"
   ]
  },
  {
   "cell_type": "code",
   "execution_count": 40,
   "id": "d83a18b4",
   "metadata": {},
   "outputs": [
    {
     "name": "stdout",
     "output_type": "stream",
     "text": [
      "10-fold cross validation average accuracy: 46.278 %\n"
     ]
    }
   ],
   "source": [
    "#Using Cross Validation\n",
    "# For decision tree\n",
    "from sklearn.model_selection import cross_val_score\n",
    "scores = cross_val_score(dt, x, y, cv=10)\n",
    "print(f\"10-fold cross validation average accuracy: {(scores.mean()*100).round(3)} %\")"
   ]
  },
  {
   "cell_type": "code",
   "execution_count": 41,
   "id": "9ef59185",
   "metadata": {},
   "outputs": [
    {
     "name": "stdout",
     "output_type": "stream",
     "text": [
      "The Model Accuracy is -1106.03%,       Recall is 45.90%, Percision is 45.90%,        F1-Score is 45.90% \n"
     ]
    }
   ],
   "source": [
    "from sklearn.decomposition import PCA\n",
    "from sklearn.metrics import accuracy_score\n",
    "for i in range(10):\n",
    "    n_components = int((i+1)/10*x_train.shape[1])\n",
    "    pca = PCA(n_components=n_components)\n",
    "    pca.fit(x_train)\n",
    "    X_compose = pca.transform(x_train)\n",
    "    X_comp = pca.transform(x_test)\n",
    "\n",
    "    clf=RandomForestClassifier(n_estimators=1600, min_samples_split=2, min_samples_leaf=4, max_features='sqrt', max_depth=10, bootstrap=True)\n",
    "    clf.fit(X_compose,y_train)\n",
    "    Y_pred=clf.predict(X_comp)\n",
    "    y_pred = dt.predict(x_test)\n",
    "    \n",
    "print(\"The Model Accuracy is {:.2f}%, \\\n",
    "      Recall is {:.2f}%, Percision is {:.2f}%,  \\\n",
    "      F1-Score is {:.2f}% \".format(pca.score(x_test, y_test)*100,\n",
    "                                    recall_score(y_test,y_pred , average='micro')*100 ,\n",
    "                                   f1_score(y_test,y_pred , average='micro')*100 ,\n",
    "                                   precision_score(y_test,y_pred ,average='micro' ) *100\n",
    "))\n"
   ]
  },
  {
   "cell_type": "code",
   "execution_count": null,
   "id": "eebc6656",
   "metadata": {},
   "outputs": [],
   "source": []
  }
 ],
 "metadata": {
  "kernelspec": {
   "display_name": "Python 3 (ipykernel)",
   "language": "python",
   "name": "python3"
  },
  "language_info": {
   "codemirror_mode": {
    "name": "ipython",
    "version": 3
   },
   "file_extension": ".py",
   "mimetype": "text/x-python",
   "name": "python",
   "nbconvert_exporter": "python",
   "pygments_lexer": "ipython3",
   "version": "3.9.7"
  }
 },
 "nbformat": 4,
 "nbformat_minor": 5
}
